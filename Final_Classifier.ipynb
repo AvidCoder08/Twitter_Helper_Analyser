{
 "metadata": {
  "language_info": {
   "codemirror_mode": {
    "name": "ipython",
    "version": 3
   },
   "file_extension": ".py",
   "mimetype": "text/x-python",
   "name": "python",
   "nbconvert_exporter": "python",
   "pygments_lexer": "ipython3",
   "version": "3.7.9-final"
  },
  "orig_nbformat": 2,
  "kernelspec": {
   "name": "python3",
   "display_name": "Python 3",
   "language": "python"
  }
 },
 "nbformat": 4,
 "nbformat_minor": 2,
 "cells": [
  {
   "cell_type": "code",
   "execution_count": 1,
   "metadata": {},
   "outputs": [
    {
     "output_type": "stream",
     "name": "stdout",
     "text": [
      "{'updated_count': 2, 'created_count': 0, 'duplicated_count': 0, 'shortened_tags': []}\n"
     ]
    }
   ],
   "source": [
    "from monkeylearn import MonkeyLearn\n",
    "\n",
    "ml = MonkeyLearn('b8703f11e18877421899419bf79eca85af5fece6')\n",
    "model_id = 'cl_aMQ5BQZA'\n",
    "tag_id_1 = 'Complaint'\n",
    "tag_id_2 = 'Request'\n",
    "tag_name = '[TAG_NAME]'\n",
    "data = [{\n",
    "    'text': 'first text',\n",
    "    'tags': [tag_id_1, tag_name],\n",
    "    'markers': ['any_marker', 'other_marker']\n",
    "}, {\n",
    "    'text': 'second text',\n",
    "    'tags': [tag_id_1, tag_id_2]\n",
    "}]\n",
    "response = ml.classifiers.upload_data(model_id, data)\n",
    "print(response.body)\n"
   ]
  },
  {
   "cell_type": "code",
   "execution_count": null,
   "metadata": {},
   "outputs": [],
   "source": []
  }
 ]
}